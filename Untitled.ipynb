{
 "cells": [
  {
   "cell_type": "code",
   "execution_count": 1,
   "metadata": {},
   "outputs": [],
   "source": [
    "import pandas as pd\n",
    "from histograms import histograms\n",
    "from tqdm.auto import tqdm"
   ]
  },
  {
   "cell_type": "code",
   "execution_count": 7,
   "metadata": {
    "scrolled": false
   },
   "outputs": [
    {
     "data": {
      "application/vnd.jupyter.widget-view+json": {
       "model_id": "191f98cdcb884496991ceb1a04ed6eb4",
       "version_major": 2,
       "version_minor": 0
      },
      "text/plain": [
       "HBox(children=(IntProgress(value=0, max=4), HTML(value='')))"
      ]
     },
     "metadata": {},
     "output_type": "display_data"
    },
    {
     "name": "stdout",
     "output_type": "stream",
     "text": [
      "HelaS3 balanced (200, 6)\n",
      "HelaS3 unbalanced (200, 6)\n",
      "HelaS3 full_balanced (200, 6)\n",
      "GM12878 balanced (200, 6)\n",
      "GM12878 unbalanced (200, 6)\n",
      "GM12878 full_balanced (200, 6)\n",
      "HepG2 balanced (200, 6)\n",
      "HepG2 unbalanced (200, 6)\n",
      "HepG2 full_balanced (200, 6)\n",
      "K562 balanced (200, 6)\n",
      "K562 unbalanced (200, 6)\n",
      "K562 full_balanced (200, 6)\n",
      "\n"
     ]
    }
   ],
   "source": [
    "results = pd.read_csv(\"results.csv\", index_col=0)\n",
    "results.balancing = results.balancing.str.replace(\"umbalanced\", \"unbalanced\")\n",
    "\n",
    "cell_lines = results.cell_line.unique()\n",
    "balancings = results.balancing.unique()\n",
    "\n",
    "for cell_line in tqdm(cell_lines):\n",
    "    for balancing in balancings:\n",
    "        results = pd.read_csv(\"results.csv\", index_col=0)\n",
    "        results.balancing = results.balancing.str.replace(\"umbalanced\", \"unbalanced\")\n",
    "\n",
    "        task_targets = {\n",
    "            \"inactive \":\"I\",\n",
    "            \"active \":\"A\",\n",
    "            \"promoters\": \"P\",\n",
    "            \"enhancers\": \"E\"\n",
    "        }\n",
    "\n",
    "        model_targets = {\n",
    "            \"simple\":\"Fixed_cnn\",\n",
    "            \"cnn\":\"CNN\",\n",
    "            \"mlp\":\"MLP\",\n",
    "            \"optimal\":\"Optimal\",\n",
    "            \"perceptron\":\"Perceptron\"\n",
    "        }\n",
    "\n",
    "\n",
    "        models = [\n",
    "            \"perceptron64\", \"deep_enhancers\", \"fixed_mlp\", 'bayesian cnn', 'bayesian mlp', 'default'\n",
    "        ]\n",
    "\n",
    "        results = results[~results.model.str.lower().isin(models)]\n",
    "        \n",
    "        results = results[results.balancing == balancing]\n",
    "        results = results.drop(columns=\"required_time\")\n",
    "        results = results[results.cell_line == cell_line]\n",
    "\n",
    "        #for target, value in task_targets.items():\n",
    "        #    results.task = results.task.str.lower().str.replace(target, value)\n",
    "\n",
    "        for target, value in model_targets.items():\n",
    "            results.model = results.model.str.replace(target, value)\n",
    "\n",
    "        results.columns = ['balancing', 'cell_line', 'model', 'task', 'Validation AUPRC', 'Validation AUROC']\n",
    "\n",
    "        index = [\"task\", \"model\"]\n",
    "        \n",
    "        print(cell_line, balancing, results.shape)\n",
    "\n",
    "        histograms(\n",
    "            results,\n",
    "            index,\n",
    "            orientation=\"horizontal\",\n",
    "            height=5,\n",
    "            verbose=False,\n",
    "            show_bar_labels=True,\n",
    "            legend_position=None,\n",
    "            title=f\"Cell line {cell_line}, {balancing}\",\n",
    "            path=f\"Cell_line_{cell_line}_{balancing}_{{feature}}.jpg\",\n",
    "            colors={\n",
    "                'Fixed_CNN':\"tab:orange\",\n",
    "                'Optimal_CNN':\"tab:orange\",\n",
    "                'Perceptron':\"tab:blue\",\n",
    "                'Optimal_MLP':\"tab:blue\"\n",
    "            },\n",
    "            alphas={\n",
    "                'Fixed_CNN':0.5,\n",
    "                'Optimal_CNN':0.8,\n",
    "                'Perceptron':0.5,\n",
    "                'Optimal_MLP':0.8\n",
    "            }\n",
    "        )"
   ]
  },
  {
   "cell_type": "code",
   "execution_count": null,
   "metadata": {},
   "outputs": [],
   "source": [
    "    list(reversed(['Active enhancers and promoters vs anything else', 'Active enhancers vs active promoters', 'Active enhancers vs inactive enhancers', 'Active promoters vs inactive promoters', 'Inactive enhancers vs inactive promoters']))"
   ]
  },
  {
   "cell_type": "code",
   "execution_count": null,
   "metadata": {},
   "outputs": [],
   "source": [
    "    "
   ]
  }
 ],
 "metadata": {
  "kernelspec": {
   "display_name": "Python 3",
   "language": "python",
   "name": "python3"
  },
  "language_info": {
   "codemirror_mode": {
    "name": "ipython",
    "version": 3
   },
   "file_extension": ".py",
   "mimetype": "text/x-python",
   "name": "python",
   "nbconvert_exporter": "python",
   "pygments_lexer": "ipython3",
   "version": "3.7.3"
  }
 },
 "nbformat": 4,
 "nbformat_minor": 2
}
