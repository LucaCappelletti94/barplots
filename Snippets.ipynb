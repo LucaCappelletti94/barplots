{
 "cells": [
  {
   "cell_type": "code",
   "execution_count": 4,
   "metadata": {},
   "outputs": [],
   "source": [
    "import matplotlib.pyplot as plt\n",
    "import itertools\n",
    "import pandas as pd\n",
    "import numpy as np\n",
    "import os\n",
    "from auto_tqdm import tqdm\n",
    "import matplotlib.ticker as plticker\n",
    "from typing import List\n",
    "from plot_keras_history import plot_history\n",
    "from glob import glob\n",
    "from humanize import naturaldelta"
   ]
  },
  {
   "cell_type": "code",
   "execution_count": 5,
   "metadata": {},
   "outputs": [],
   "source": [
    "def add_bar(offset:float, mean:float, std:float, color:str, label:str):\n",
    "    plt.bar(offset, mean, **(\n",
    "        {\"yerr\":std} if std>0 else {}\n",
    "    ), color=color, width = 0.3, alpha=0.5, capsize=5, label=label)"
   ]
  },
  {
   "cell_type": "code",
   "execution_count": 7,
   "metadata": {},
   "outputs": [],
   "source": [
    "def get_offset(bar_number:int, major_group:int, minor_group:int)->float:\n",
    "    return  bar_number*0.3 + major_group + minor_group*0.25"
   ]
  },
  {
   "cell_type": "code",
   "execution_count": 8,
   "metadata": {},
   "outputs": [],
   "source": [
    "def handle_label(s:int, m:int, minor_number:int, steps_number:int, offset:float, minor_group:str, major_group:str, pos:List, ticks:List):\n",
    "    if s==steps_number//2:\n",
    "        if steps_number % 2 == 0:\n",
    "            offset -= 0.15\n",
    "        pos.append(offset)\n",
    "        ticks.append(\n",
    "            sanitize_mode(minor_group) + (\"\\n\\n\"+sanitize_mode(major_group) if m==minor_number//2 else \"\")\n",
    "        )"
   ]
  },
  {
   "cell_type": "code",
   "execution_count": 9,
   "metadata": {},
   "outputs": [],
   "source": [
    "def hystogram(df:pd.DataFrame):\n",
    "    \n",
    "    fig, ax = plt.subplots(figsize=(13,5))\n",
    "    ticks, pos = [], []\n",
    "    colors = [\"blue\", \"green\", \"red\", \"yellow\", \"cyan\"]\n",
    "    major_number, minor_number, steps_number = [\n",
    "        len(j) for j in df.index.levels\n",
    "    ]\n",
    "    for i, ((c, major_group), (m, minor_group), (t, step)) in enumerate(itertools.product(*[\n",
    "        list(enumerate(e)) for e in df.index.levels\n",
    "    ])):\n",
    "        offset = get_offset(i, c, m)\n",
    "        row = df.loc[major_group, minor_group, step]\n",
    "        mean = row[\"mean\"] if \"mean\" in row else row.values[0]\n",
    "        std = row[\"std\"] if \"std\" in row else 0\n",
    "        add_bar(offset, mean, std, colors[t], step)\n",
    "        handle_label(t, m, minor_number, steps_number, offset, minor_group, major_group, pos, ticks)\n",
    "    handles, labels = plt.gca().get_legend_handles_labels()\n",
    "    by_label = dict(zip(labels, handles))\n",
    "    plt.legend(by_label.values(), by_label.keys(), loc='best')\n",
    "    locs, labels = plt.yticks()\n",
    "    if \"required_time\" in df:\n",
    "        ax.set_yticklabels([\n",
    "            naturaldelta(y) for y in locs\n",
    "        ])\n",
    "        df = df.applymap(naturaldelta)\n",
    "    ax.set_xticks(pos)\n",
    "    ax.set_ylabel(ylabel)\n",
    "    ax.yaxis.grid(True, which=\"both\")\n",
    "    ax.set_xticklabels(ticks)\n",
    "    os.makedirs(\"visualizations/latex\", exist_ok=True)\n",
    "    os.makedirs(\"visualizations/hystograms\", exist_ok=True)\n",
    "    df.columns = [\n",
    "        c.replace(\"_\", \" \") for c in df.columns\n",
    "    ]\n",
    "    df = df.unstack(level=1).reorder_levels([1,0], axis=1).sort_index(axis=1, sort_remaining=False)\n",
    "    df.columns.names = [\"\" for _ in df.columns.names]\n",
    "    df.to_latex(\n",
    "        \"visualizations/latex/{title}.tex\".format(title=title.lower().replace(\" \", \"_\")),\n",
    "        float_format=lambda x: '%.3f' % x,\n",
    "        bold_rows=True\n",
    "    )\n",
    "    plt.title(title.replace(\"_\", \" \"))\n",
    "    plt.tight_layout()\n",
    "    plt.savefig(\"visualizations/hystograms/{title}.png\".format(title=title.lower().replace(\" \", \"_\")))\n",
    "    plt.show()\n",
    "    plt.close()"
   ]
  },
  {
   "cell_type": "code",
   "execution_count": 11,
   "metadata": {},
   "outputs": [
    {
     "data": {
      "text/plain": [
       "2"
      ]
     },
     "execution_count": 11,
     "metadata": {},
     "output_type": "execute_result"
    }
   ],
   "source": [
    "sum([True, True, False])"
   ]
  },
  {
   "cell_type": "code",
   "execution_count": null,
   "metadata": {},
   "outputs": [],
   "source": []
  }
 ],
 "metadata": {
  "kernelspec": {
   "display_name": "Python 3",
   "language": "python",
   "name": "python3"
  },
  "language_info": {
   "codemirror_mode": {
    "name": "ipython",
    "version": 3
   },
   "file_extension": ".py",
   "mimetype": "text/x-python",
   "name": "python",
   "nbconvert_exporter": "python",
   "pygments_lexer": "ipython3",
   "version": "3.7.3"
  }
 },
 "nbformat": 4,
 "nbformat_minor": 2
}
